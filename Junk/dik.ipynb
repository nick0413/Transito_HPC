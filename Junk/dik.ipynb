{
 "cells": [
  {
   "cell_type": "code",
   "execution_count": 1,
   "metadata": {},
   "outputs": [],
   "source": [
    "import numpy as np\n",
    "import random as rd\n",
    "import networkx as nx\n",
    "import matplotlib.pylab as plt\n",
    "def dijkstra_algorithm(graph, start_node, end_node):\n",
    "\tnum_nodes = graph.shape[0]\n",
    "\n",
    "\t# Initialize distances and visited arrays\n",
    "\tdistances = np.full(num_nodes, np.inf)\n",
    "\tdistances[start_node] = 0\n",
    "\tvisited = np.full(num_nodes, False)\n",
    "\n",
    "\t# Loop until all nodes have been visited\n",
    "\twhile not visited.all():\n",
    "\t\t# Get the node with the shortest distance\n",
    "\t\tcurrent_node = np.argmin(distances * np.logical_not(visited))\n",
    "\t\tif current_node == end_node:\n",
    "\t\t\tbreak\n",
    "\n",
    "\t\t# Mark the current node as visited\n",
    "\t\tvisited[current_node] = True\n",
    "\n",
    "\t\t# Update the distances of neighboring nodes\n",
    "\t\tneighbors = graph[current_node, :] > 0\n",
    "\t\tfor neighbor_node in np.where(neighbors)[0]:\n",
    "\t\t\tnew_distance = distances[current_node] + graph[current_node, neighbor_node]\n",
    "\t\t\tif new_distance < distances[neighbor_node]:\n",
    "\t\t\t\tdistances[neighbor_node] = new_distance\n",
    "\n",
    "\treturn distances[end_node]"
   ]
  }
 ],
 "metadata": {
  "kernelspec": {
   "display_name": "Python 3",
   "language": "python",
   "name": "python3"
  },
  "language_info": {
   "codemirror_mode": {
    "name": "ipython",
    "version": 3
   },
   "file_extension": ".py",
   "mimetype": "text/x-python",
   "name": "python",
   "nbconvert_exporter": "python",
   "pygments_lexer": "ipython3",
   "version": "3.11.1"
  },
  "orig_nbformat": 4
 },
 "nbformat": 4,
 "nbformat_minor": 2
}
